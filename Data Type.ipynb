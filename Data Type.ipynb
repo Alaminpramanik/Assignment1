{
 "cells": [
  {
   "cell_type": "code",
   "execution_count": 1,
   "metadata": {},
   "outputs": [
    {
     "name": "stdout",
     "output_type": "stream",
     "text": [
      "<class 'int'>\n",
      "8\n",
      "<class 'float'>\n",
      "5.77\n",
      "<class 'complex'>\n",
      "4j\n",
      "<class 'str'>\n",
      "Hello Bangladesh\n"
     ]
    }
   ],
   "source": [
    "#Python Data Type\n",
    "#int data\n",
    "num1=8\n",
    "print(type(num1))\n",
    "print(num1)\n",
    "\n",
    "#float data\n",
    "num2=5.77\n",
    "print(type(num2))\n",
    "print(num2)\n",
    "\n",
    "#complex data\n",
    "num3=4j\n",
    "print(type(num3))\n",
    "print(num3)\n",
    "\n",
    "#String data\n",
    "num4=\"Hello Bangladesh\"\n",
    "print(type(num4))\n",
    "print(num4)"
   ]
  },
  {
   "cell_type": "code",
   "execution_count": null,
   "metadata": {},
   "outputs": [],
   "source": []
  }
 ],
 "metadata": {
  "kernelspec": {
   "display_name": "Python 3",
   "language": "python",
   "name": "python3"
  },
  "language_info": {
   "codemirror_mode": {
    "name": "ipython",
    "version": 3
   },
   "file_extension": ".py",
   "mimetype": "text/x-python",
   "name": "python",
   "nbconvert_exporter": "python",
   "pygments_lexer": "ipython3",
   "version": "3.7.3"
  }
 },
 "nbformat": 4,
 "nbformat_minor": 2
}
