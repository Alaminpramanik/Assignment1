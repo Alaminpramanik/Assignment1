{
 "cells": [
  {
   "cell_type": "code",
   "execution_count": 1,
   "metadata": {},
   "outputs": [
    {
     "name": "stdout",
     "output_type": "stream",
     "text": [
      "Hello World\n",
      " Welcome Rhul\n",
      " Welcome Arefin\n",
      " Welcome Faysal\n",
      "Smart\n",
      "Parrot\n",
      "Smoker\n"
     ]
    }
   ],
   "source": [
    "#Function\n",
    "def Hi():\n",
    "  print(\"Hello World\")\n",
    "Hi()\n",
    "\n",
    "\n",
    "def name(fname):\n",
    "  print(fname + \"Rhul\")\n",
    "  print(fname + \"Arefin\")\n",
    "  print(fname + \"Faysal\")\n",
    "\n",
    "name(\" Welcome \")\n",
    "\n",
    "\n",
    "\n",
    "\n",
    "def birds_name(birds):\n",
    "  for i in birds:\n",
    "    print(i)\n",
    "\n",
    "bname= [\"Smart\", \"Parrot\", \"Smoker\"]\n",
    "\n",
    "birds_name(bname)"
   ]
  },
  {
   "cell_type": "code",
   "execution_count": null,
   "metadata": {},
   "outputs": [],
   "source": []
  }
 ],
 "metadata": {
  "kernelspec": {
   "display_name": "Python 3",
   "language": "python",
   "name": "python3"
  },
  "language_info": {
   "codemirror_mode": {
    "name": "ipython",
    "version": 3
   },
   "file_extension": ".py",
   "mimetype": "text/x-python",
   "name": "python",
   "nbconvert_exporter": "python",
   "pygments_lexer": "ipython3",
   "version": "3.7.3"
  }
 },
 "nbformat": 4,
 "nbformat_minor": 2
}
