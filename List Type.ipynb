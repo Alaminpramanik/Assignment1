{
 "cells": [
  {
   "cell_type": "code",
   "execution_count": 1,
   "metadata": {},
   "outputs": [
    {
     "name": "stdout",
     "output_type": "stream",
     "text": [
      "['Belal', 'Hridoy', 'Al Mamun', 'Rabeya']\n",
      "Rabeya\n",
      "4\n"
     ]
    }
   ],
   "source": [
    "stdlist=[\"Belal\",\"Hridoy\",\"Al Mamun\",\"Rabeya\"]\n",
    "\n",
    "print(stdlist)\n",
    "print(stdlist[3])\n",
    "print(len(stdlist))"
   ]
  },
  {
   "cell_type": "code",
   "execution_count": null,
   "metadata": {},
   "outputs": [],
   "source": []
  }
 ],
 "metadata": {
  "kernelspec": {
   "display_name": "Python 3",
   "language": "python",
   "name": "python3"
  },
  "language_info": {
   "codemirror_mode": {
    "name": "ipython",
    "version": 3
   },
   "file_extension": ".py",
   "mimetype": "text/x-python",
   "name": "python",
   "nbconvert_exporter": "python",
   "pygments_lexer": "ipython3",
   "version": "3.7.3"
  }
 },
 "nbformat": 4,
 "nbformat_minor": 2
}
